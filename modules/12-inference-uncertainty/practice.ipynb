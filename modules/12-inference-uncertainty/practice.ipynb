{
 "cells": [
  {
   "cell_type": "markdown",
   "metadata": {},
   "source": [
    "# Practice: inference and uncertainty"
   ]
  },
  {
   "cell_type": "code",
   "execution_count": null,
   "metadata": {
    "id": "vtVhHzoKZsgQ"
   },
   "outputs": [],
   "source": [
    "!curl -s -o pyproject.toml https://raw.githubusercontent.com/gboeing/ppd534/refs/heads/main/pyproject.toml && uv pip install -q -r pyproject.toml"
   ]
  },
  {
   "cell_type": "code",
   "execution_count": null,
   "metadata": {
    "id": "Oybu6SnHavWT"
   },
   "outputs": [],
   "source": [
    "# load the CA tracts census data we used in the lecture\n",
    "# calculate the z-scores of the median household income column\n",
    "# what are the highest/lowest z-scores?\n",
    "# how do you interpret these values' real-world meaning?"
   ]
  },
  {
   "cell_type": "code",
   "execution_count": null,
   "metadata": {},
   "outputs": [],
   "source": [
    "# plot a histogram of the median home value column\n",
    "# then simulate random normally-distributed data with the same mean and std dev as this column\n",
    "# plot its histogram as well and compare the two histograms: what do they tell you?"
   ]
  },
  {
   "cell_type": "code",
   "execution_count": null,
   "metadata": {},
   "outputs": [],
   "source": [
    "# next draw 10,000 random samples of 1,000 tracts each and calculate each sample's\n",
    "# mean tract-level median home value. then plot a histogram of these 10,000 means.\n",
    "# what does it tell you?"
   ]
  },
  {
   "cell_type": "code",
   "execution_count": null,
   "metadata": {},
   "outputs": [],
   "source": [
    "# draw a random sample of 500 tracts' mean commute time\n",
    "# calculate the sample's mean, 95% margin of error, and 95% confidence interval\n",
    "# then calculate the mean across all CA tracts' mean commute time\n",
    "# does it fall within the confidence interval you calculated?"
   ]
  },
  {
   "cell_type": "code",
   "execution_count": null,
   "metadata": {},
   "outputs": [],
   "source": [
    "# create two subset dataframes: one with the percent who've attained a bachelor's degree\n",
    "# or higher exceeding 50%, and the other at or below 50%. what is the difference in mean\n",
    "# tract-level median household income between these two groups? is it statistically significant?"
   ]
  }
 ],
 "metadata": {
  "colab": {
   "provenance": []
  },
  "kernelspec": {
   "display_name": "Python 3",
   "name": "python3"
  },
  "language_info": {
   "name": "python"
  }
 },
 "nbformat": 4,
 "nbformat_minor": 0
}
