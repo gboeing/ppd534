{
 "cells": [
  {
   "cell_type": "markdown",
   "metadata": {
    "id": "BJ_NJ7Txcdp7"
   },
   "source": [
    "# Data visualization\n",
    "\n",
    "Python data visualization tool landscape:\n",
    "\n",
    "  - matplotlib is powerful but unwieldy; good for basic plotting (scatter, line, bar), and pandas can use it [directly](https://pandas.pydata.org/pandas-docs/stable/user_guide/visualization.html)\n",
    "  - [seaborn](http://seaborn.pydata.org/) (built on top of matplotlib) is best for statistical visualization: summarizing data, understanding distributions, searching for patterns and trends\n",
    "  - [bokeh](https://docs.bokeh.org/) is for interactive visualization to let your audience explore the data themselves\n",
    "\n",
    "We will focus on **seaborn** in this class. It is the easiest to work with to produce meaningful and aesthetically-pleasing visuals."
   ]
  },
  {
   "cell_type": "code",
   "execution_count": null,
   "metadata": {
    "id": "5jQm6yqLcfZt"
   },
   "outputs": [],
   "source": [
    "!curl -s -o pyproject.toml https://raw.githubusercontent.com/gboeing/ppd534/refs/heads/main/pyproject.toml && uv pip install -q -r pyproject.toml"
   ]
  },
  {
   "cell_type": "code",
   "execution_count": null,
   "metadata": {
    "id": "UcMpSEoucdp8"
   },
   "outputs": [],
   "source": [
    "import pandas as pd\n",
    "import seaborn as sns"
   ]
  },
  {
   "cell_type": "markdown",
   "metadata": {
    "id": "NSCaJvvJcdp9"
   },
   "source": [
    "## 1. Load and prep the data"
   ]
  },
  {
   "cell_type": "code",
   "execution_count": null,
   "metadata": {
    "id": "ut4ju8Jycdp9"
   },
   "outputs": [],
   "source": [
    "# load the california tracts census data\n",
    "df = pd.read_csv(\n",
    "    \"https://raw.githubusercontent.com/gboeing/ppd534/main/data/census_tracts_data_ca.csv\",\n",
    "    dtype={\"GEOID10\": str},\n",
    ")\n",
    "df.shape"
   ]
  },
  {
   "cell_type": "code",
   "execution_count": null,
   "metadata": {
    "id": "kBdwWGyucdp-"
   },
   "outputs": [],
   "source": [
    "df.columns"
   ]
  },
  {
   "cell_type": "code",
   "execution_count": null,
   "metadata": {
    "id": "A1qHJSJ4cdp-"
   },
   "outputs": [],
   "source": [
    "df = df.set_index(\"GEOID10\")\n",
    "df.head()"
   ]
  },
  {
   "cell_type": "markdown",
   "metadata": {
    "id": "MnnedEfJcdp_"
   },
   "source": [
    "## 2. Review: subsetting, grouping, and descriptive stats"
   ]
  },
  {
   "cell_type": "code",
   "execution_count": null,
   "metadata": {
    "id": "WJWD3YRmcdp_"
   },
   "outputs": [],
   "source": [
    "# let's look only at counties in southern california\n",
    "socal_counties = [\n",
    "    \"Imperial\",\n",
    "    \"Kern\",\n",
    "    \"Los Angeles\",\n",
    "    \"Orange\",\n",
    "    \"Riverside\",\n",
    "    \"San Bernardino\",\n",
    "    \"San Diego\",\n",
    "    \"San Luis Obispo\",\n",
    "    \"Santa Barbara\",\n",
    "    \"Ventura\",\n",
    "]\n",
    "mask = df[\"county_name\"].isin(socal_counties)\n",
    "df_sc = df[mask]\n",
    "df_sc.shape"
   ]
  },
  {
   "cell_type": "code",
   "execution_count": null,
   "metadata": {
    "id": "XDiGwAG0cdqA"
   },
   "outputs": [],
   "source": [
    "# quick descriptive stats across these counties\n",
    "df_sc[\"med_household_income\"].describe()"
   ]
  },
  {
   "cell_type": "code",
   "execution_count": null,
   "metadata": {
    "id": "WOibW47hcdqA"
   },
   "outputs": [],
   "source": [
    "# looking across the whole thing obscures between-group heterogeneity\n",
    "# let's group by county and look at descriptive stats again\n",
    "df_sc.groupby(\"county_name\")[\"med_household_income\"].describe().astype(int)"
   ]
  },
  {
   "cell_type": "markdown",
   "metadata": {
    "id": "JjI8dSR2cdqB"
   },
   "source": [
    "That's better... but it's still hard to pick out patterns and trends by just staring at a table full of numbers. Let's visualize it.\n",
    "\n",
    "## 3. Visualizing distributions\n",
    "\n",
    "### 3a. Box plots\n",
    "\n",
    "Box plots illustrate the data's distribution via the \"5 number summary\": min, max, median, and the two quartiles (plus outliers).\n",
    "\n",
    "We will use seaborn for our visualization. In seaborn, you can control what's considered an outlier by changing min/max of whiskers with `whis` parameter... the convention is outliers > 1.5 IQR. For a vertical boxplot, x = your variable's column and y = categorical column to group by."
   ]
  },
  {
   "cell_type": "code",
   "execution_count": null,
   "metadata": {
    "id": "qBCAEJ2kcdqB"
   },
   "outputs": [],
   "source": [
    "# use seaborn to make a boxplot of median household income per county\n",
    "ax = sns.boxplot(x=df_sc[\"med_household_income\"], y=df_sc[\"county_name\"])"
   ]
  },
  {
   "cell_type": "markdown",
   "metadata": {
    "id": "eJNHeTyTcdqB"
   },
   "source": [
    "**What stories does this visualization tell you?**\n",
    "\n",
    "Next, let's configure and tweak the plot to improve its aesthetics."
   ]
  },
  {
   "cell_type": "code",
   "execution_count": null,
   "metadata": {
    "id": "P-lFjWTqcdqB"
   },
   "outputs": [],
   "source": [
    "# what is this \"ax\" variable we created?\n",
    "type(ax)"
   ]
  },
  {
   "cell_type": "code",
   "execution_count": null,
   "metadata": {
    "id": "8CXcr0cDcdqB"
   },
   "outputs": [],
   "source": [
    "# every matplotlib axes is associated with a \"figure\" which is like a container\n",
    "fig = ax.get_figure()\n",
    "type(fig)"
   ]
  },
  {
   "cell_type": "code",
   "execution_count": null,
   "metadata": {
    "id": "kEZH844ncdqC"
   },
   "outputs": [],
   "source": [
    "# manually change the plot's size/dimension by adjusting its figure's size\n",
    "fig = ax.get_figure()\n",
    "fig.set_size_inches(6, 6)  # inches\n",
    "fig"
   ]
  },
  {
   "cell_type": "markdown",
   "metadata": {
    "id": "F-jwkzJ6cdqC"
   },
   "source": [
    "It's usually better to let seaborn intelligently handle the figure size for you. But you can easily configure its style, plotting context, and many attributes of the plot:"
   ]
  },
  {
   "cell_type": "code",
   "execution_count": null,
   "metadata": {
    "id": "YrxTX_yocdqC"
   },
   "outputs": [],
   "source": [
    "# you can configure seaborn's style\n",
    "sns.set_style(\"whitegrid\")  # visual styles\n",
    "sns.set_context(\"paper\")  # presets for scaling figure element sizes\n",
    "\n",
    "# fliersize changes the size of the outlier dots\n",
    "# boxprops lets you set more configs with a dict, such as alpha (which means opacity)\n",
    "ax = sns.boxplot(\n",
    "    x=df_sc[\"med_household_income\"], y=df_sc[\"county_name\"], fliersize=1, boxprops={\"alpha\": 0.7}\n",
    ")\n",
    "\n",
    "# set the x-axis limit, the figure title, and x/y axis labels\n",
    "ax.set_xlim(left=0)\n",
    "ax.set_title(\"Box plot of tract-level median household income\")\n",
    "ax.set_xlabel(\"2017 inflation-adjusted USD\")\n",
    "ax.set_ylabel(\"\")\n",
    "\n",
    "# save figure to disk with 600 dpi and a tight bounding box\n",
    "ax.get_figure().savefig(\"figure-income-boxplot.png\", dpi=600, bbox_inches=\"tight\")"
   ]
  },
  {
   "cell_type": "code",
   "execution_count": null,
   "metadata": {
    "id": "rQEo4r7WcdqC"
   },
   "outputs": [],
   "source": [
    "# now it's your turn\n",
    "# choose a different variable and visualize it as a box plot in each of 3 counties of your choice"
   ]
  },
  {
   "cell_type": "markdown",
   "metadata": {
    "id": "joGvyMK-cdqD"
   },
   "source": [
    "### 3b. Histograms and KDE plots\n",
    "\n",
    "Histograms visualize the distribution of some variable by binning it then counting observations per bin. KDE plots are similar, but continuous and smooth."
   ]
  },
  {
   "cell_type": "code",
   "execution_count": null,
   "metadata": {
    "id": "T67eGNHtcdqD"
   },
   "outputs": [],
   "source": [
    "# distplot visualizes the variable's distribution as both histogram and kde\n",
    "ax = sns.histplot(df[\"median_age\"].dropna(), stat=\"density\", kde=True)"
   ]
  },
  {
   "cell_type": "code",
   "execution_count": null,
   "metadata": {
    "id": "Y9nAp0TKcdqD"
   },
   "outputs": [],
   "source": [
    "# if you prefer, you can plot just the histogram alone\n",
    "ax = sns.histplot(df[\"median_age\"].dropna(), stat=\"density\", kde=False)"
   ]
  },
  {
   "cell_type": "markdown",
   "metadata": {
    "id": "fu1d04AXcdqD"
   },
   "source": [
    "You can compare multiple histograms to see how different groups overlap or differ by some measure."
   ]
  },
  {
   "cell_type": "code",
   "execution_count": null,
   "metadata": {
    "id": "8E5JvKs6cdqD"
   },
   "outputs": [],
   "source": [
    "# subset the dataframe into majority white and majority hispanic subsets\n",
    "df_wht = df[df[\"pct_white\"] > 50]\n",
    "df_hsp = df[df[\"pct_hispanic\"] > 50]"
   ]
  },
  {
   "cell_type": "code",
   "execution_count": null,
   "metadata": {
    "id": "m8RrHd26cdqD"
   },
   "outputs": [],
   "source": [
    "# compare their distributions to each other\n",
    "ax = sns.histplot(df_wht[\"median_age\"].dropna(), stat=\"density\")\n",
    "ax = sns.histplot(df_hsp[\"median_age\"].dropna(), stat=\"density\", color=\"orange\")"
   ]
  },
  {
   "cell_type": "code",
   "execution_count": null,
   "metadata": {
    "id": "-WZMsgvDcdqE"
   },
   "outputs": [],
   "source": [
    "# improve the aesthetics: label each distribution and create a legend\n",
    "ax = sns.histplot(df_wht[\"median_age\"].dropna(), stat=\"density\", label=\"Majority White Tracts\")\n",
    "\n",
    "ax = sns.histplot(\n",
    "    df_hsp[\"median_age\"].dropna(), stat=\"density\", label=\"Majority Hispanic Tracts\", color=\"orange\"\n",
    ")\n",
    "ax.legend()\n",
    "\n",
    "# set x-limit, add x-label, then save to disk\n",
    "ax.set_xlim(10, 85)\n",
    "ax.set_xlabel(\"Median Age of Population (Years)\")\n",
    "ax.get_figure().savefig(\"figure-age-distributions.png\", dpi=600, bbox_inches=\"tight\")"
   ]
  },
  {
   "cell_type": "markdown",
   "metadata": {
    "id": "BWtX-HxrcdqE"
   },
   "source": [
    "**So, what does this plot tell us?**\n",
    "\n",
    "It looks like the two groups differ... but it is a big enough difference to make meaningful claims about it? We will revisit this question when we discuss statistical significance in a few weeks."
   ]
  },
  {
   "cell_type": "code",
   "execution_count": null,
   "metadata": {
    "id": "_ao_h3HAcdqE"
   },
   "outputs": [],
   "source": [
    "# now it's your turn\n",
    "# subset the dataframe in a different way (your choice), choose a new variable, and compare its distribution across the subsets\n",
    "# how do the distributions differ? what does this mean in the real world?"
   ]
  },
  {
   "cell_type": "markdown",
   "metadata": {
    "id": "wcbOW__OcdqE"
   },
   "source": [
    "## 4. Pairwise relationships\n",
    "\n",
    "### 4a. Scatter plots\n",
    "\n",
    "Histograms and box plots visualize univariate distributions: how a single variable's values are distributed. Scatter plots essentially visualize *bivariate* distributions so that we can see patterns and trends jointly between two variables."
   ]
  },
  {
   "cell_type": "code",
   "execution_count": null,
   "metadata": {
    "id": "ikDczBMvcdqF"
   },
   "outputs": [],
   "source": [
    "# use seaborn to scatter-plot two variables\n",
    "ax = sns.scatterplot(x=df[\"pct_bachelors_degree\"], y=df[\"med_household_income\"])"
   ]
  },
  {
   "cell_type": "code",
   "execution_count": null,
   "metadata": {
    "id": "3_COV7uAcdqF"
   },
   "outputs": [],
   "source": [
    "# scatter-plot two variables, broken out across three counties by color\n",
    "counties = [\"Riverside\", \"San Mateo\", \"San Francisco\"]\n",
    "df_counties = df[df[\"county_name\"].isin(counties)]\n",
    "ax = sns.scatterplot(\n",
    "    x=df_counties[\"pct_bachelors_degree\"],\n",
    "    y=df_counties[\"med_household_income\"],\n",
    "    hue=df_counties[\"county_name\"],\n",
    ")"
   ]
  },
  {
   "cell_type": "code",
   "execution_count": null,
   "metadata": {
    "id": "pyI8WKuNcdqF"
   },
   "outputs": [],
   "source": [
    "# same thing again, but styled more nicely\n",
    "counties = [\"Riverside\", \"San Mateo\", \"San Francisco\"]\n",
    "df_counties = df[df[\"county_name\"].isin(counties)]\n",
    "ax = sns.scatterplot(\n",
    "    x=df_counties[\"pct_bachelors_degree\"],\n",
    "    y=df_counties[\"med_household_income\"],\n",
    "    hue=df_counties[\"county_name\"],\n",
    "    alpha=0.8,\n",
    ")\n",
    "\n",
    "# remove the column name from the legend\n",
    "handles, labels = ax.get_legend_handles_labels()\n",
    "ax.legend(handles=handles, labels=labels)\n",
    "\n",
    "# set x/y limits, labels, and save figure\n",
    "ax.set_xlim(0, 100)\n",
    "ax.set_ylim(bottom=0)\n",
    "ax.set_xlabel(\"Tract population % with bachelor's degree or higher\")\n",
    "ax.set_ylabel(\"Tract median household income (2017 USD)\")\n",
    "ax.get_figure().savefig(\"figure-income-degree.png\", dpi=600, bbox_inches=\"tight\")"
   ]
  },
  {
   "cell_type": "code",
   "execution_count": null,
   "metadata": {
    "id": "WhwauP0HcdqF"
   },
   "outputs": [],
   "source": [
    "# now it's your turn\n",
    "# pick 2 new variables from the full dataset and scatter plot them against each other\n",
    "# how do you interpret the pattern? what if you look at only 1 county?"
   ]
  },
  {
   "cell_type": "markdown",
   "metadata": {
    "id": "3f6iwQ8VcdqF"
   },
   "source": [
    "### 4b. Pair plots, correlation heatmaps, and linear trends"
   ]
  },
  {
   "cell_type": "code",
   "execution_count": null,
   "metadata": {
    "id": "jtPoevkwcdqF"
   },
   "outputs": [],
   "source": [
    "# create a subset of SF county tracts, and just 4 variables\n",
    "df_sf = df[df[\"county_name\"] == \"San Francisco\"]\n",
    "df_sf = df_sf[\n",
    "    [\"pct_bachelors_degree\", \"med_household_income\", \"med_home_value\", \"mean_commute_time\"]\n",
    "]\n",
    "df_sf.head()"
   ]
  },
  {
   "cell_type": "code",
   "execution_count": null,
   "metadata": {
    "id": "S68qd3EmcdqG"
   },
   "outputs": [],
   "source": [
    "# show a pair plot of these SF tracts across these 4 variables\n",
    "\n",
    "ax = sns.pairplot(df_sf.dropna())"
   ]
  },
  {
   "cell_type": "markdown",
   "metadata": {
    "id": "oRzENBcFcdqG"
   },
   "source": [
    "**Do you see patterns in these scatter plots?**\n",
    "\n",
    "*Correlation* tells us to what extent two variables are linearly related to one another. Pearson correlation coefficients range from -1 to 1, with 0 indicating no linear relationship, -1 indicating a perfect negative linear relationship, and 1 indicating a perfect positive linear relationship."
   ]
  },
  {
   "cell_type": "code",
   "execution_count": null,
   "metadata": {
    "id": "pQt_vCXWcdqG"
   },
   "outputs": [],
   "source": [
    "# a correlation matrix\n",
    "correlations = df_sf.corr()\n",
    "correlations.round(2)"
   ]
  },
  {
   "cell_type": "code",
   "execution_count": null,
   "metadata": {
    "id": "kCpWZ07ZcdqG"
   },
   "outputs": [],
   "source": [
    "# visual correlation matrix via seaborn heatmap\n",
    "# use vmin, vmax, center to set colorbar scale properly\n",
    "ax = sns.heatmap(\n",
    "    correlations, vmin=-1, vmax=1, center=0, cmap=\"coolwarm\", square=True, linewidths=1\n",
    ")"
   ]
  },
  {
   "cell_type": "code",
   "execution_count": null,
   "metadata": {
    "id": "TioX2Zq9cdqG"
   },
   "outputs": [],
   "source": [
    "# a linear (regression) trend line + confidence interval\n",
    "ax = sns.regplot(x=df_sf[\"pct_bachelors_degree\"], y=df_sf[\"med_household_income\"])\n",
    "ax.get_figure().set_size_inches(5, 5)  # make it square"
   ]
  },
  {
   "cell_type": "markdown",
   "metadata": {
    "id": "S6rHBIr_cdqH"
   },
   "source": [
    "## 5. Bar plots and count plots\n",
    "\n",
    "Count plots let you count things across categories. Bar plots let you estimate a measure of central tendency across categories."
   ]
  },
  {
   "cell_type": "code",
   "execution_count": null,
   "metadata": {
    "id": "DLMEsTZicdqH"
   },
   "outputs": [],
   "source": [
    "# pandas value_counts() counts how many times each unique value appears in a column\n",
    "counts = df_sc[\"county_name\"].value_counts().sort_index()\n",
    "counts"
   ]
  },
  {
   "cell_type": "code",
   "execution_count": null,
   "metadata": {
    "id": "p4ofyQUGcdqH"
   },
   "outputs": [],
   "source": [
    "# simple count plot\n",
    "# essentially a histogram counting observations across categorical data (instead of continuous data)\n",
    "ax = sns.countplot(x=df_sc[\"county_name\"])"
   ]
  },
  {
   "cell_type": "code",
   "execution_count": null,
   "metadata": {
    "id": "K5QjHFYKcdqH"
   },
   "outputs": [],
   "source": [
    "# same thing again, but ordered and styled more nicely\n",
    "order = df_sc[\"county_name\"].value_counts().index\n",
    "ax = sns.countplot(x=df_sc[\"county_name\"], order=order, alpha=0.7)\n",
    "\n",
    "# rotate the tick labels, set x and y axis labels, then save\n",
    "ax.set_xticks(ax.get_xticks())\n",
    "ax.set_xticklabels(ax.get_xticklabels(), rotation=45, ha=\"right\")\n",
    "ax.set_xlabel(\"Counties in Southern California\")\n",
    "ax.set_ylabel(\"Number of census tracts\")\n",
    "ax.get_figure().savefig(\"county-tracts-countplot.png\", dpi=600, bbox_inches=\"tight\")"
   ]
  },
  {
   "cell_type": "code",
   "execution_count": null,
   "metadata": {
    "id": "8Tvtr1A0cdqH"
   },
   "outputs": [],
   "source": [
    "# simple bar plot: estimate means of tract median household income + 95% confidence interval\n",
    "ax = sns.barplot(x=df_sc[\"county_name\"], y=df_sc[\"med_household_income\"])"
   ]
  },
  {
   "cell_type": "code",
   "execution_count": null,
   "metadata": {
    "id": "mdCzx0XacdqH"
   },
   "outputs": [],
   "source": [
    "# nicer bar plot sorted by median value\n",
    "order = df_sc.groupby(\"county_name\")[\"med_household_income\"].median().sort_values().index\n",
    "ax = sns.barplot(\n",
    "    x=df_sc[\"med_household_income\"],\n",
    "    y=df_sc[\"county_name\"],\n",
    "    hue=df_sc[\"county_name\"],\n",
    "    estimator=\"median\",\n",
    "    errorbar=None,\n",
    "    order=order,\n",
    "    alpha=0.7,\n",
    "    palette=\"plasma\",\n",
    ")"
   ]
  },
  {
   "cell_type": "markdown",
   "metadata": {
    "id": "Kh68q9cJcdqI"
   },
   "source": [
    "How does this compare to a box plot of the same variable?\n",
    "\n",
    "## 6. Line plots\n",
    "\n",
    "Line plots are most commonly used to visualize time series: how one or more variables change over time."
   ]
  },
  {
   "cell_type": "code",
   "execution_count": null,
   "metadata": {
    "id": "XYf5htZOcdqI"
   },
   "outputs": [],
   "source": [
    "# load dataset of country gdp by year\n",
    "df_gdp = pd.read_csv(\n",
    "    \"https://raw.githubusercontent.com/gboeing/ppd534/main/data/gdp.csv\"\n",
    ").set_index(\"year\")\n",
    "df_gdp.shape"
   ]
  },
  {
   "cell_type": "code",
   "execution_count": null,
   "metadata": {
    "id": "gIoGj-d_cdqI"
   },
   "outputs": [],
   "source": [
    "df_gdp.tail()"
   ]
  },
  {
   "cell_type": "code",
   "execution_count": null,
   "metadata": {
    "id": "Xx7cBEXncdqI"
   },
   "outputs": [],
   "source": [
    "# simple line plot\n",
    "# seaborn uses the index as x-axis and individual lines for each column\n",
    "ax = sns.lineplot(data=df_gdp)"
   ]
  },
  {
   "cell_type": "code",
   "execution_count": null,
   "metadata": {
    "id": "Uff3rSMdcdqI"
   },
   "outputs": [],
   "source": [
    "# same thing, but subset to only show 50 years of data (1900-1950)\n",
    "ax = sns.lineplot(data=df_gdp.loc[1900:1950])"
   ]
  },
  {
   "cell_type": "code",
   "execution_count": null,
   "metadata": {
    "id": "cNjR7-VAcdqI"
   },
   "outputs": [],
   "source": [
    "# same thing, but also subset to only show 2 countries\n",
    "ax = sns.lineplot(data=df_gdp.loc[1900:1950, [\"GBR\", \"USA\"]])"
   ]
  },
  {
   "cell_type": "code",
   "execution_count": null,
   "metadata": {
    "id": "CL1H-7-XcdqJ"
   },
   "outputs": [],
   "source": [
    "# same thing again, but styled more nicely\n",
    "ax = sns.lineplot(\n",
    "    data=df_gdp.loc[1900:1950, [\"GBR\", \"USA\"]], dashes=False, palette=[\"steelblue\", \"chocolate\"]\n",
    ")\n",
    "\n",
    "ax.set_xlim(1900, 1950)\n",
    "ax.set_ylim(5000, 17000)\n",
    "ax.set_xlabel(\"\")\n",
    "ax.set_ylabel(\"Real GDP per capita (2011 USD)\")\n",
    "ax.set_title(\"Per capita GDP, 1900-1950\")\n",
    "ax.get_figure().savefig(\"country-gdp-lineplot.png\", dpi=600, bbox_inches=\"tight\")"
   ]
  },
  {
   "cell_type": "code",
   "execution_count": null,
   "metadata": {
    "id": "nuaY2A_8cdqJ"
   },
   "outputs": [],
   "source": [
    "# now it's your turn\n",
    "# choose any 3 countries from the GDP dataset and visualize them over any 100 year interval in the dataset"
   ]
  },
  {
   "cell_type": "markdown",
   "metadata": {
    "id": "RCUWlXQ-cdqJ"
   },
   "source": [
    "## 7. Working with color\n",
    "\n",
    "Seaborn makes generally smart decisions about color for you. But you can tweak the colors in your plot usually by passing in a `palette` argument (the name of a colormap or a list of colors to use).\n",
    "\n",
    "How seaborn handles color: https://seaborn.pydata.org/tutorial/color_palettes.html\n",
    "\n",
    "Available color maps: https://matplotlib.org/tutorials/colors/colormaps.html\n",
    "\n",
    "Available named colors: https://matplotlib.org/gallery/color/named_colors.html"
   ]
  },
  {
   "cell_type": "code",
   "execution_count": null,
   "metadata": {
    "id": "JrPoabnAcdqJ"
   },
   "outputs": [],
   "source": [
    "# show the default color palette\n",
    "sns.palplot(sns.color_palette())"
   ]
  },
  {
   "cell_type": "code",
   "execution_count": null,
   "metadata": {
    "id": "ylceF1-VcdqJ"
   },
   "outputs": [],
   "source": [
    "# show the \"Blues\" color map as a palette\n",
    "sns.palplot(sns.color_palette(\"Blues\", n_colors=5))"
   ]
  },
  {
   "cell_type": "code",
   "execution_count": null,
   "metadata": {
    "id": "-KWoMPDQcdqJ"
   },
   "outputs": [],
   "source": [
    "# show the \"plasma\" color map as a palette\n",
    "# notice that color map names are case sensitive\n",
    "sns.palplot(sns.color_palette(\"plasma\", n_colors=5))"
   ]
  },
  {
   "cell_type": "code",
   "execution_count": null,
   "metadata": {
    "id": "49TIiLjocdqJ"
   },
   "outputs": [],
   "source": [
    "# now it's your turn\n",
    "# go back through a couple of the plots earlier in this notebook and adjust their colors\n",
    "# try both colormaps and lists of color names: look up both using the links above"
   ]
  },
  {
   "cell_type": "code",
   "execution_count": null,
   "metadata": {
    "id": "Pbq4nWrmeF3L"
   },
   "outputs": [],
   "source": []
  }
 ],
 "metadata": {
  "colab": {
   "provenance": []
  },
  "kernelspec": {
   "display_name": "ppd430",
   "language": "python",
   "name": "python3"
  },
  "language_info": {
   "codemirror_mode": {
    "name": "ipython",
    "version": 3
   },
   "file_extension": ".py",
   "mimetype": "text/x-python",
   "name": "python",
   "nbconvert_exporter": "python",
   "pygments_lexer": "ipython3",
   "version": "3.13.1"
  }
 },
 "nbformat": 4,
 "nbformat_minor": 0
}
