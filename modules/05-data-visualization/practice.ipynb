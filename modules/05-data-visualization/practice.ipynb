{
 "cells": [
  {
   "cell_type": "markdown",
   "metadata": {},
   "source": [
    "# Practice: data visualization"
   ]
  },
  {
   "cell_type": "code",
   "execution_count": null,
   "metadata": {
    "id": "vtVhHzoKZsgQ"
   },
   "outputs": [],
   "source": [
    "!curl -s -o pyproject.toml https://raw.githubusercontent.com/gboeing/ppd534/refs/heads/main/pyproject.toml && uv pip install -q -r pyproject.toml"
   ]
  },
  {
   "cell_type": "code",
   "execution_count": null,
   "metadata": {
    "id": "Oybu6SnHavWT"
   },
   "outputs": [],
   "source": [
    "# load the CA census data file we used in the lecture as a dataframe\n",
    "# ensure FIPS codes are treated as strings\n",
    "# group the data by county and calculate descriptive stats any 3 variables in San Mateo county"
   ]
  },
  {
   "cell_type": "code",
   "execution_count": null,
   "metadata": {},
   "outputs": [],
   "source": [
    "# using the dataframe you just loaded, visualize box plots of tract-level median age across\n",
    "# LA, Orange, Riverside, and San Bernardino counties"
   ]
  },
  {
   "cell_type": "code",
   "execution_count": null,
   "metadata": {},
   "outputs": [],
   "source": [
    "# create the box plots again, this time adjusting the outlier size, the boxes' opacity,\n",
    "# and the x-axis label, y-axis label, and title. then mount your USC Google Drive and save\n",
    "# the image to it"
   ]
  },
  {
   "cell_type": "code",
   "execution_count": null,
   "metadata": {},
   "outputs": [],
   "source": [
    "# create two subset dataframes: one where tract median age is between 30 and 60, and one where it's not\n",
    "# then create histograms of tract-level median household income, one for each subset"
   ]
  },
  {
   "cell_type": "code",
   "execution_count": null,
   "metadata": {},
   "outputs": [],
   "source": [
    "# scatter plot tract median age vs median household income\n",
    "# do you see any pattern? what does it suggest to you?\n",
    "# then calculate the correlation coefficient between these variables"
   ]
  },
  {
   "cell_type": "code",
   "execution_count": null,
   "metadata": {},
   "outputs": [],
   "source": [
    "# load the GDP data we used in the lecture as a dataframe\n",
    "# visualize a line plot of Peru, Sweden, and Italy from 1860-1920"
   ]
  }
 ],
 "metadata": {
  "colab": {
   "provenance": []
  },
  "kernelspec": {
   "display_name": "Python 3",
   "name": "python3"
  },
  "language_info": {
   "name": "python"
  }
 },
 "nbformat": 4,
 "nbformat_minor": 0
}
