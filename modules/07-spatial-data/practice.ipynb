{
 "cells": [
  {
   "cell_type": "markdown",
   "metadata": {},
   "source": [
    "# Practice: spatial data"
   ]
  },
  {
   "cell_type": "code",
   "execution_count": null,
   "metadata": {
    "id": "vtVhHzoKZsgQ"
   },
   "outputs": [],
   "source": [
    "!curl -s -o pyproject.toml https://raw.githubusercontent.com/gboeing/ppd534/refs/heads/main/pyproject.toml && uv pip install -q -r pyproject.toml"
   ]
  },
  {
   "cell_type": "code",
   "execution_count": null,
   "metadata": {
    "id": "Oybu6SnHavWT"
   },
   "outputs": [],
   "source": [
    "# load the CA census trqcts shapefile we used in the lecture as a dataframe\n",
    "# check its crs attribute: what is its value?"
   ]
  },
  {
   "cell_type": "code",
   "execution_count": null,
   "metadata": {},
   "outputs": [],
   "source": [
    "# load the rental listings CSV file we used in the lecture as a GeoDataFrame\n",
    "# remember the steps: load it as a pandas dataframe, then create the geometries\n",
    "# then turn it into a GeoDataFrame, then set the CRS attribute to EPSG:4326"
   ]
  },
  {
   "cell_type": "code",
   "execution_count": null,
   "metadata": {},
   "outputs": [],
   "source": [
    "# project the census tracts GeoDataFrame to the same CRS as the rental listings GeoDataFrame\n",
    "# then verify their CRSs are equal to each other"
   ]
  },
  {
   "cell_type": "code",
   "execution_count": null,
   "metadata": {},
   "outputs": [],
   "source": [
    "# get the subset of tracts that do not intersect any of the rental listings"
   ]
  },
  {
   "cell_type": "code",
   "execution_count": null,
   "metadata": {},
   "outputs": [],
   "source": [
    "# get the subset of rental listings that are within LA county"
   ]
  },
  {
   "cell_type": "code",
   "execution_count": null,
   "metadata": {},
   "outputs": [],
   "source": [
    "# project the listings to a meter-based projected coordinate system of your choosing\n",
    "# then buffer the listings by 1km"
   ]
  },
  {
   "cell_type": "code",
   "execution_count": null,
   "metadata": {},
   "outputs": [],
   "source": [
    "# spatial join the (all) rental listings GeoDataFrame to the (all) tracts GeoDataFrame\n",
    "# to attach tract-level census variables to each rental listing"
   ]
  },
  {
   "cell_type": "code",
   "execution_count": null,
   "metadata": {},
   "outputs": [],
   "source": [
    "# scatter plot the joined GeoDataFrame's rental listing asking rent vs tract-level\n",
    "# median household income: do you see any pattern?"
   ]
  },
  {
   "cell_type": "code",
   "execution_count": null,
   "metadata": {},
   "outputs": [],
   "source": [
    "# get the subset of tracts that are in LA county and map them colored by median home value\n",
    "# give it a legend and adjust the map styling to make it clean and interpretable"
   ]
  }
 ],
 "metadata": {
  "colab": {
   "provenance": []
  },
  "kernelspec": {
   "display_name": "Python 3",
   "name": "python3"
  },
  "language_info": {
   "name": "python"
  }
 },
 "nbformat": 4,
 "nbformat_minor": 0
}
