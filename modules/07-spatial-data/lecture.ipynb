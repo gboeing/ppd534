{
 "cells": [
  {
   "cell_type": "markdown",
   "metadata": {
    "id": "cYhoPeZIfU2l"
   },
   "source": [
    "# Introduction to Spatial Data\n",
    "\n",
    "Today we will introduce the basics of working with spatial data, including loading spatial datasets as shapefiles or CSV files, projecting data, performing geometric operations, spatially joining multiple datasets together, and simple mapping."
   ]
  },
  {
   "cell_type": "code",
   "execution_count": null,
   "metadata": {
    "id": "7EgBAjRNfW2M"
   },
   "outputs": [],
   "source": [
    "!curl -s -o pyproject.toml https://raw.githubusercontent.com/gboeing/ppd534/refs/heads/main/pyproject.toml && uv pip install -q -r pyproject.toml"
   ]
  },
  {
   "cell_type": "code",
   "execution_count": null,
   "metadata": {
    "id": "cyZV2xfGfU2l"
   },
   "outputs": [],
   "source": [
    "import geopandas as gpd\n",
    "import pandas as pd"
   ]
  },
  {
   "cell_type": "markdown",
   "metadata": {
    "id": "V-avRsfgfU2m"
   },
   "source": [
    "## 1. Quick overview of key concepts\n",
    "\n",
    "### What is GIS?\n",
    "\n",
    "GIS stands for geographic information system. GIS software lets you work with spatial data, that is, data associated with locations on the Earth. These locations are represented with coordinates: longitude (x), latitude (y), and often elevation (z). With GIS software you can collect, edit, query, analyze, and visualize spatial data. Examples of GIS software include ArcGIS, QGIS, PostGIS, and GeoPandas.\n",
    "\n",
    "### Some terminology:\n",
    "\n",
    "- **geoid**: (that's *gee-oid*) the surface of the earth's gravity field, which approximates mean sea level\n",
    "- **spheroid** or **ellipsoid** (interchangeable terms): a model that smoothly approximates the geoid\n",
    "- **datum**: based on spheroid but incorporates local variations in the shape of the Earth. Used to describe a point on the Earth's surface, such as in latitude and longitude.\n",
    "  - WGS84 (World Geodetic Survey 1984 datum) uses the WGS84 spheroid\n",
    "  - The latitude and longitude coordinates of some point differ slightly based on the datum. GPS uses WGS84.\n",
    "- **coordinate reference system** (CRS) or spatial reference system (SRS): a series of parameters that [define](http://spatialreference.org/) the coordinate system and spatial extent (aka, domain) of some dataset.\n",
    "- **geographic coordinate system** (GCS): specifies a datum, spheroid, units of measure (such as meters), and a prime meridian\n",
    "- **projected coordinate system** or map projection: projects a map of the Earth's 3-D spherical surface onto a flat surface that can be measured in units like meters. Here's a [list of projections](https://en.wikipedia.org/wiki/List_of_map_projections).\n",
    "- **eastings** and **northings**: the x and y coordinates of a projected map, usually measured in meters\n",
    "- **false origin**: the 0,0 origin point from which eastings and northings are measured on a map, usually the lower left corner rather than the center\n",
    "- **PROJ.4**: a library to convert/project spatial data with consistent CRS [parameter names](https://github.com/OSGeo/proj.4/wiki/GenParms)\n",
    "\n",
    "### Common CRS parameters (and their PROJ.4 names):\n",
    "\n",
    "- datum (datum)\n",
    "- ellipse (ellps)\n",
    "- projection (proj)\n",
    "  - the name of the projected coordinate system, such as Albers Equal Area (aea) or Lambert Conformal Conic (lcc)\n",
    "- standard parallels (lat_1, lat_2)\n",
    "  - where the projection surface touches the globe - at the standard parallels, the projection shows no distortion\n",
    "- central meridian and latitude of origin (lon_0, lat_0)\n",
    "  - the origin of the projection's x and y coordinates (eastings and northings) - usually the center of the map projection\n",
    "- false easting and false northing (x_0, y_0)\n",
    "  - offsets to add to all your eastings and northings - usually used to make all the coordinates on the map positive numbers by starting 0,0 at the lower left corner rather than the center of the map (see false origin, above)\n",
    "\n",
    "### Common projection types:\n",
    "\n",
    "- *equal area* projections: maintain area at the expense of shape, distance, and direction - such as the [Albers Equal Area](https://en.wikipedia.org/wiki/Albers_projection) projection\n",
    "- *conformal* projections: maintain shapes at the expense of area, distance, and direction - such as the [Lambert Conformal Conic](https://en.wikipedia.org/wiki/Lambert_conformal_conic_projection) projection\n",
    "- *equidistant* projections: [preserve distance](https://en.wikipedia.org/wiki/Map_projection#Equidistant) from one point or along all meridians and parallels\n",
    "- *azimuthal* projections: maintain direction from one point to all other points - such as an [orthographic](https://en.wikipedia.org/wiki/Orthographic_projection_in_cartography) projection\n",
    "- others compromise to minimize overall distortion or aim for aesthetic value - such as the [Robinson](https://en.wikipedia.org/wiki/Robinson_projection) projection"
   ]
  },
  {
   "cell_type": "markdown",
   "metadata": {
    "id": "DeC_JqgWfU2m"
   },
   "source": [
    "## 2. Loading spatial data\n",
    "\n",
    "You can use a GIS like ArcGIS or QGIS to open a spatial data file (typically a shapefile, GeoJSON file, or CSV file with lat-long columns). Today we'll introduce the basic concepts of spatial data and GIS operations using [geopandas](http://geopandas.org/user.html), which spatializes pandas dataframes. It uses the [shapely](https://shapely.readthedocs.io/en/latest/manual.html) package for geometry. We'll focus on common, shared concepts and operations, rather than \"how-to\" in the user interface of a specific GIS program.\n",
    "\n",
    "### 2a. Loading a shapefile\n",
    "\n",
    "Where to get census shapefiles? https://www.census.gov/cgi-bin/geo/shapefiles/index.php\n",
    "\n",
    "The term \"shapefile\" is a misnomer... a shapefile is actually a folder containing multiple files that contain spatial geometry, attribute data, projection information, etc: https://en.wikipedia.org/wiki/Shapefile"
   ]
  },
  {
   "cell_type": "code",
   "execution_count": null,
   "metadata": {
    "id": "K-b9B6ELfU2n"
   },
   "outputs": [],
   "source": [
    "# tell geopandas to read a shapefile with its read_file() function, passing in the shapefile folder\n",
    "# this produces a GeoDataFrame\n",
    "gdf = gpd.read_file(\n",
    "    \"https://raw.githubusercontent.com/gboeing/ppd534/main/data/tl_2017_06_tract/tl_2017_06_tract.shp\"\n",
    ")\n",
    "gdf.shape"
   ]
  },
  {
   "cell_type": "code",
   "execution_count": null,
   "metadata": {
    "id": "D4Fi6P7FfU2n"
   },
   "outputs": [],
   "source": [
    "# just like regular pandas, see the first 5 rows of the GeoDataFrame\n",
    "# this is a shapefile of polygon geometries, that is, tract boundaries\n",
    "gdf.head()"
   ]
  },
  {
   "cell_type": "code",
   "execution_count": null,
   "metadata": {
    "id": "spQldhU-fU2n"
   },
   "outputs": [],
   "source": [
    "# mapping is as easy as calling the GeoDataFrame's plot method\n",
    "ax = gdf.plot()"
   ]
  },
  {
   "cell_type": "code",
   "execution_count": null,
   "metadata": {
    "id": "L5KUpi4NfU2o"
   },
   "outputs": [],
   "source": [
    "# just like in regular pandas, we can filter and subset the GeoDataFrame\n",
    "# retain only tracts in LA, OC, Ventura counties\n",
    "counties = [\"037\", \"059\", \"111\"]\n",
    "gdf_tracts = gdf[gdf[\"COUNTYFP\"].isin(counties)]\n",
    "gdf_tracts.shape"
   ]
  },
  {
   "cell_type": "code",
   "execution_count": null,
   "metadata": {
    "id": "qeGUdH1EfU2q"
   },
   "outputs": [],
   "source": [
    "# what is the CRS?\n",
    "# this derives from the shapefile's .prj file\n",
    "# always make sure the shapefile you load has prj info so you get a CRS attribute!\n",
    "gdf_tracts.crs"
   ]
  },
  {
   "cell_type": "markdown",
   "metadata": {
    "id": "vUf1zYoJfU2r"
   },
   "source": [
    "### 2b. Loading a CSV file\n",
    "\n",
    "Often, you won't have a shapefile (which is explicitly spatial), but rather a CSV file which is implicitly spatial (contains lat-lng columns). If you're loading a CSV file (or other non-explicitly spatial file type) of lat-lng data:\n",
    "\n",
    "  1. first load the CSV file as a DataFrame the usual way with pandas\n",
    "  2. then create a new geopandas GeoDataFrame from your DataFrame\n",
    "  3. manually create a geometry column\n",
    "  4. set the CRS"
   ]
  },
  {
   "cell_type": "code",
   "execution_count": null,
   "metadata": {
    "id": "It4ohiQbfU2r",
    "jupyter": {
     "outputs_hidden": false
    }
   },
   "outputs": [],
   "source": [
    "# load rental listings data as a regular pandas dataframe\n",
    "df = pd.read_csv(\"https://raw.githubusercontent.com/gboeing/ppd534/main/data/listings-la_oc_vc.csv\")\n",
    "df.shape"
   ]
  },
  {
   "cell_type": "code",
   "execution_count": null,
   "metadata": {
    "id": "PO-mfoCRfU2r"
   },
   "outputs": [],
   "source": [
    "# examine first five rows\n",
    "df.head()"
   ]
  },
  {
   "cell_type": "markdown",
   "metadata": {
    "id": "OzDb40LXfU2s"
   },
   "source": [
    "**Always define the CRS** if you are manually creating a GeoDataFrame! Earlier, when we loaded the shapefile, geopandas loaded the CRS from the shapefile itself. But our CSV file is not explicitly spatial and it contains no CRS data, so we have to tell it what it is. In our case, the CRS is EPSG:4326, which is WGS84 lat-lng data, such as for GPS. Your data source should always tell you what CRS their coordinates are in. If they don't, ask! Don't just guess."
   ]
  },
  {
   "cell_type": "code",
   "execution_count": null,
   "metadata": {
    "id": "MgnlCxKnfU2s"
   },
   "outputs": [],
   "source": [
    "# create point geometries from the lng and lat coordinates\n",
    "# notice the shapely points are represented as lng, lat so that they are equivalent to x, y\n",
    "geometry = gpd.points_from_xy(x=df[\"longitude\"], y=df[\"latitude\"])\n",
    "\n",
    "# create a new geopandas geodataframe manually from the pandas dataframe\n",
    "# specify the geometries and the crs\n",
    "gdf_listings = gpd.GeoDataFrame(df, geometry=geometry, crs=\"epsg:4326\")\n",
    "gdf_listings.shape"
   ]
  },
  {
   "cell_type": "code",
   "execution_count": null,
   "metadata": {
    "id": "r2j7kXMofU2s"
   },
   "outputs": [],
   "source": [
    "gdf_listings.head()"
   ]
  },
  {
   "cell_type": "code",
   "execution_count": null,
   "metadata": {
    "id": "TIHnU64mfU2t"
   },
   "outputs": [],
   "source": [
    "# what's the CRS\n",
    "gdf_listings.crs"
   ]
  },
  {
   "cell_type": "markdown",
   "metadata": {
    "id": "z6cONZJNfU2t"
   },
   "source": [
    "## 3. Projection, part I\n",
    "\n",
    "Your datasets need to be in the same CRS if you want to work with them together. If they're not, then project one or both of them so they're in the same CRS."
   ]
  },
  {
   "cell_type": "code",
   "execution_count": null,
   "metadata": {
    "id": "DZx9E-xvfU2t"
   },
   "outputs": [],
   "source": [
    "gdf_tracts.crs == gdf_listings.crs"
   ]
  },
  {
   "cell_type": "code",
   "execution_count": null,
   "metadata": {
    "id": "pbzjqnzRfU2t"
   },
   "outputs": [],
   "source": [
    "# project the tracts geodataframe to the CRS of the listings geodataframe\n",
    "gdf_tracts = gdf_tracts.to_crs(gdf_listings.crs)\n",
    "gdf_tracts.crs == gdf_listings.crs"
   ]
  },
  {
   "cell_type": "markdown",
   "metadata": {
    "id": "N3GM02PUfU2t"
   },
   "source": [
    "**Be careful**: heed the difference between `gdf.crs` and `gdf.to_crs()`. The first tells you the geodataframe's current CRS. The latter projects the geodataframe to a new CRS."
   ]
  },
  {
   "cell_type": "markdown",
   "metadata": {
    "id": "fMla8TJyfU2t"
   },
   "source": [
    "## 4. Spatial predicates and operations\n",
    "\n",
    "GIS and spatial analysis use common \"computational geometry\" predicates and operations like intersects, within, dissolve, and buffer.\n",
    "\n",
    "  - *intersects* tells you if each geometry in one dataset intersects with some other (single) geometry\n",
    "  - *within* tells you if each geometry in one dataset is wholly contained within some other (single) geometry\n",
    "  - *dissolve* lets you aggregate data (merge their geometries together) if they share some attribute in common: this is the spatial equivalent of pandas's groupby function\n",
    "  - *buffer* identifies a zone some distance around a geometry for proximity analysis\n",
    "  \n",
    "A spatial predicate tests the relationship between geometric objects and returns Trues or Falses (see the first two bullet points above, as well as touches, crosses, contains, overlaps, etc). A spatial operation takes geometric objects as inputs, and outputs different geometric objects (see the final two bullet points above, as well as union, intersection, difference, etc). Many predicates and operations exist in the world of GIS, but these are among the most common and useful."
   ]
  },
  {
   "cell_type": "markdown",
   "metadata": {
    "id": "RFYFRPFKfU2u"
   },
   "source": [
    "### 4a. intersects\n",
    "\n",
    "Example: I want to find all the tracts that have at least 1 rental listing within their boundaries. So, I'm going to intersect the tracts with a single geometry object that represents all the listings."
   ]
  },
  {
   "cell_type": "code",
   "execution_count": null,
   "metadata": {
    "id": "CqIT85D8fU2u"
   },
   "outputs": [],
   "source": [
    "# create a single, unified MultiPoint object containing all the listings' geometries\n",
    "# use geopandas union_all method to get a single geometry object representing all the points\n",
    "unified_listings = gdf_listings[\"geometry\"].union_all()\n",
    "type(unified_listings)"
   ]
  },
  {
   "cell_type": "code",
   "execution_count": null,
   "metadata": {
    "id": "nza_GD51fU2u"
   },
   "outputs": [],
   "source": [
    "unified_listings"
   ]
  },
  {
   "cell_type": "code",
   "execution_count": null,
   "metadata": {
    "id": "cv-RU0K8fU2u",
    "jupyter": {
     "outputs_hidden": false
    }
   },
   "outputs": [],
   "source": [
    "# get the tracts that spatially-intersect with anything in the listings dataset\n",
    "mask = gdf_tracts.intersects(unified_listings)\n",
    "gdf_tracts[mask].shape"
   ]
  },
  {
   "cell_type": "code",
   "execution_count": null,
   "metadata": {
    "id": "mRJtv3LZfU2u",
    "jupyter": {
     "outputs_hidden": false
    }
   },
   "outputs": [],
   "source": [
    "# how many tracts didn't intersect any rental listings?\n",
    "gdf_tracts[~mask].shape"
   ]
  },
  {
   "cell_type": "markdown",
   "metadata": {
    "id": "IGKQAS-QfU2u"
   },
   "source": [
    "### 4b. dissolve\n",
    "\n",
    "Example: I want to merge all the tracts in each county to aggregate them up to the county level. This will merge all tract-level geometries into new county-level geometries."
   ]
  },
  {
   "cell_type": "code",
   "execution_count": null,
   "metadata": {
    "id": "si1hb2XdfU2u"
   },
   "outputs": [],
   "source": [
    "# dissolve lets you aggregate data based on shared values in some column, such as county fips codes\n",
    "gdf_tracts.head()"
   ]
  },
  {
   "cell_type": "code",
   "execution_count": null,
   "metadata": {
    "id": "pmiJfX_KfU2u"
   },
   "outputs": [],
   "source": [
    "# dissolve the tracts into counties\n",
    "# aggregate their numerical columns by summing them\n",
    "agg = {\"ALAND\": \"sum\", \"AWATER\": \"sum\"}\n",
    "gdf_counties = gdf_tracts.dissolve(\"COUNTYFP\", aggfunc=agg)\n",
    "gdf_counties"
   ]
  },
  {
   "cell_type": "code",
   "execution_count": null,
   "metadata": {
    "id": "e5ylZJFxfU2u"
   },
   "outputs": [],
   "source": [
    "# quick and dirty map of our 3 counties\n",
    "ax = gdf_counties.plot(cmap=\"plasma\")"
   ]
  },
  {
   "cell_type": "markdown",
   "metadata": {
    "id": "SVgSYJd-fU2u"
   },
   "source": [
    "### 4c. within\n",
    "\n",
    "Example: I want to find all the rental listings in Orange County. But my rental listings don't contain any explicit tract or county information: they only tell me lat-long. But I can use those lat-long coordinates to find which listings fall *within* the geometry (spatial boundary) of Orange County."
   ]
  },
  {
   "cell_type": "code",
   "execution_count": null,
   "metadata": {
    "id": "llwRYC53fU2u"
   },
   "outputs": [],
   "source": [
    "# get orange county's geometry\n",
    "oc_geometry = gdf_counties.loc[\"059\", \"geometry\"]\n",
    "type(oc_geometry)"
   ]
  },
  {
   "cell_type": "code",
   "execution_count": null,
   "metadata": {
    "id": "GgTGxm-bfU2u"
   },
   "outputs": [],
   "source": [
    "oc_geometry"
   ]
  },
  {
   "cell_type": "code",
   "execution_count": null,
   "metadata": {
    "id": "s16x--htfU2v"
   },
   "outputs": [],
   "source": [
    "# find all the listings within orange county\n",
    "mask = gdf_listings.within(oc_geometry)\n",
    "oc_listings = gdf_listings[mask]\n",
    "oc_listings.shape"
   ]
  },
  {
   "cell_type": "markdown",
   "metadata": {
    "id": "NKwNaY9GfU2v"
   },
   "source": [
    "## 5. Projection, part II"
   ]
  },
  {
   "cell_type": "code",
   "execution_count": null,
   "metadata": {
    "id": "_fJxIxg6fU2w"
   },
   "outputs": [],
   "source": [
    "# map the OC rental listings\n",
    "ax = oc_listings.plot()"
   ]
  },
  {
   "cell_type": "code",
   "execution_count": null,
   "metadata": {
    "id": "TmQ_9NetfU2w"
   },
   "outputs": [],
   "source": [
    "oc_listings.head()"
   ]
  },
  {
   "cell_type": "code",
   "execution_count": null,
   "metadata": {
    "id": "R21bpVMrfU2w",
    "jupyter": {
     "outputs_hidden": false
    }
   },
   "outputs": [],
   "source": [
    "# you can easily calculate buffers\n",
    "# buffer creates a polygon around your geometry with some specified distance\n",
    "oc_listings_buffered = oc_listings.buffer(distance=0.1)  # what are these units? 0.1 what?\n",
    "oc_listings_buffered.head()"
   ]
  },
  {
   "cell_type": "code",
   "execution_count": null,
   "metadata": {
    "id": "Xvyv4pVUfU2w"
   },
   "outputs": [],
   "source": [
    "ax = oc_listings_buffered.plot(edgecolor=\"k\", alpha=0.3)"
   ]
  },
  {
   "cell_type": "markdown",
   "metadata": {
    "id": "HXv-TkAUfU2w"
   },
   "source": [
    "But these buffers are weird because the data are not projected. They're all in lat-long degrees. Let's project it to a **projected coordinate system**.\n",
    "\n",
    "You need to look up an appropriate projection for the spatial extents of your data/map. This is a huge topic in and of itself, so for today we'll just focus on some (over-simplified) rules of thumb:\n",
    "\n",
    "  1. If you're mapping global data, choose a global projection like [Pseudo-Mercator](https://epsg.io/3857) or [Robinson](https://epsg.io/53030).\n",
    "  2. If you're mapping national data, choose a national projection like [LCC USA](https://epsg.io/42103).\n",
    "  3. If you're mapping regional data, choose a local projection, like [UTM zone 11N](https://epsg.io/32611) for Southern California.\n",
    "  \n",
    "![](https://github.com/gboeing/ppd534/blob/fall/modules/07-spatial-data/img/utm_zones.png?raw=1)\n",
    "\n",
    "https://epsg.io/ is a good resource. There you can use the EPSG code or click the \"proj4\" link on any CRS's page to get a string you can use with geopandas."
   ]
  },
  {
   "cell_type": "code",
   "execution_count": null,
   "metadata": {
    "id": "D-0Wr9jPfU2w"
   },
   "outputs": [],
   "source": [
    "# plot the tracts, then the listings on top of them\n",
    "ax = gdf_tracts.plot()\n",
    "ax = gdf_listings.plot(ax=ax, c=\"r\", markersize=1)"
   ]
  },
  {
   "cell_type": "code",
   "execution_count": null,
   "metadata": {
    "id": "5eRGBmzPfU2w"
   },
   "outputs": [],
   "source": [
    "# define a CRS appropriate for projecting CA data\n",
    "ca_crs = \"epsg:26945\"\n",
    "gdf_tracts = gdf_tracts.to_crs(ca_crs)\n",
    "gdf_listings = gdf_listings.to_crs(ca_crs)"
   ]
  },
  {
   "cell_type": "code",
   "execution_count": null,
   "metadata": {
    "id": "ehMDRZcofU2w"
   },
   "outputs": [],
   "source": [
    "# plot the projected tracts + listings\n",
    "ax = gdf_tracts.plot()\n",
    "ax = gdf_listings.plot(ax=ax, c=\"r\", markersize=1)"
   ]
  },
  {
   "cell_type": "code",
   "execution_count": null,
   "metadata": {
    "id": "oWOlHmDpfU2x"
   },
   "outputs": [],
   "source": [
    "# specify a projection manually with a proj4 string\n",
    "# we'll map with UTM zone 11 which is good for Southern California (see link above)\n",
    "utm_11 = \"+proj=utm +zone=11 +ellps=WGS84 +datum=WGS84 +units=m +no_defs\"\n",
    "gdf_tracts = gdf_tracts.to_crs(utm_11)\n",
    "gdf_listings = gdf_listings.to_crs(utm_11)"
   ]
  },
  {
   "cell_type": "code",
   "execution_count": null,
   "metadata": {
    "id": "40-In66GfU2x"
   },
   "outputs": [],
   "source": [
    "ax = gdf_tracts.plot()\n",
    "ax = gdf_listings.plot(ax=ax, c=\"r\", markersize=1)"
   ]
  },
  {
   "cell_type": "code",
   "execution_count": null,
   "metadata": {
    "id": "yVhZlOhyfU2x"
   },
   "outputs": [],
   "source": [
    "# buffer listings by 5km then plot again\n",
    "ax = gdf_tracts.plot()\n",
    "ax = gdf_listings.buffer(5000).plot(ax=ax, fc=\"r\")"
   ]
  },
  {
   "cell_type": "markdown",
   "metadata": {
    "id": "eqTaT_y-fU2x"
   },
   "source": [
    "So that's our projected data and shapefile. Notice how the shape has changed, and how the units make more sense: they are in meters now. So our buffers are a 5km radius from each point. Buffers are useful for tasks like, for example, finding all the transit stations within 1km of a census tract."
   ]
  },
  {
   "cell_type": "markdown",
   "metadata": {
    "id": "Faj7xnFufU2x"
   },
   "source": [
    "## 6. Non-spatial merge vs spatial joins\n",
    "\n",
    "### 6a. Quick review of pandas (non-spatial) merge\n",
    "\n",
    "Joins two dataframes based on some column they have in common."
   ]
  },
  {
   "cell_type": "code",
   "execution_count": null,
   "metadata": {
    "id": "bgRt_si2fU2x"
   },
   "outputs": [],
   "source": [
    "# load the CA tract-level census data from previous weeks\n",
    "tract_indicators = pd.read_csv(\n",
    "    \"https://raw.githubusercontent.com/gboeing/ppd534/main/data/census_tracts_data_ca.csv\",\n",
    "    dtype={\"GEOID10\": str},\n",
    ")\n",
    "tract_indicators.shape"
   ]
  },
  {
   "cell_type": "code",
   "execution_count": null,
   "metadata": {
    "id": "KnmpTDwufU2x"
   },
   "outputs": [],
   "source": [
    "# 5 rows of the tracts census data\n",
    "tract_indicators.head()"
   ]
  },
  {
   "cell_type": "code",
   "execution_count": null,
   "metadata": {
    "id": "oqxLgz4pfU2x"
   },
   "outputs": [],
   "source": [
    "# 5 rows of the tracts shapefile\n",
    "gdf_tracts.head()"
   ]
  },
  {
   "cell_type": "code",
   "execution_count": null,
   "metadata": {
    "id": "lvDyTwvZfU2x"
   },
   "outputs": [],
   "source": [
    "# merge the 2 datasets on a shared column: tract fips code\n",
    "gdf_tracts_ind = pd.merge(\n",
    "    left=gdf_tracts, right=tract_indicators, how=\"left\", left_on=\"GEOID\", right_on=\"GEOID10\"\n",
    ")\n",
    "gdf_tracts_ind.head()"
   ]
  },
  {
   "cell_type": "code",
   "execution_count": null,
   "metadata": {
    "id": "RsjglD2kfU2x"
   },
   "outputs": [],
   "source": [
    "# merging a dataframe (right) into a (left) geodataframe, we got a geodataframe back and kept our CRS\n",
    "gdf_tracts_ind.crs"
   ]
  },
  {
   "cell_type": "markdown",
   "metadata": {
    "id": "qWC-SJq8fU2x"
   },
   "source": [
    "### 6b. Geopandas spatial join\n",
    "\n",
    "Joins two geodataframes based on some shared spatial location. Let's say I want to know which county each rental listing is in: I need to *join* the listings to the county that each listing is within, using the gdf_counties GeoDataFrame we created earlier by dissolving the tracts."
   ]
  },
  {
   "cell_type": "code",
   "execution_count": null,
   "metadata": {
    "id": "rOROhPi1fU2x"
   },
   "outputs": [],
   "source": [
    "# remember (again): always double-check CRS before any spatial operations\n",
    "gdf_listings.crs == gdf_counties.crs"
   ]
  },
  {
   "cell_type": "code",
   "execution_count": null,
   "metadata": {
    "id": "jfVWOqdXfU2x"
   },
   "outputs": [],
   "source": [
    "# they don't match, so project the counties to the CRS of the listings\n",
    "gdf_counties = gdf_counties.to_crs(gdf_listings.crs)\n",
    "gdf_listings.crs == gdf_counties.crs"
   ]
  },
  {
   "cell_type": "code",
   "execution_count": null,
   "metadata": {
    "id": "TXKlE22jfU2x"
   },
   "outputs": [],
   "source": [
    "# spatial join listings to counties\n",
    "# this is a left-join to ensure we retain all the listings in our resulting merged dataset\n",
    "gdf_listings_counties = gpd.sjoin(gdf_listings, gdf_counties, how=\"left\", predicate=\"within\")\n",
    "gdf_listings_counties.shape"
   ]
  },
  {
   "cell_type": "code",
   "execution_count": null,
   "metadata": {
    "id": "xyybGxUJfU2z"
   },
   "outputs": [],
   "source": [
    "# what did it do? inspect first 5 rows of listings\n",
    "gdf_listings_counties.head()"
   ]
  },
  {
   "cell_type": "code",
   "execution_count": null,
   "metadata": {
    "id": "DlvG27yTfU2z"
   },
   "outputs": [],
   "source": [
    "groups = gdf_listings_counties.groupby(\"COUNTYFP\")"
   ]
  },
  {
   "cell_type": "code",
   "execution_count": null,
   "metadata": {
    "id": "TvxURCg9fU2z"
   },
   "outputs": [],
   "source": [
    "# which counties have the highest median asking rents?\n",
    "groups[\"rent\"].median().sort_values(ascending=False)"
   ]
  },
  {
   "cell_type": "code",
   "execution_count": null,
   "metadata": {
    "id": "G8IFd7iKfU2z"
   },
   "outputs": [],
   "source": [
    "# which counties have the most bedrooms per unit in the listings?\n",
    "groups[\"bedrooms\"].mean().sort_values(ascending=False)"
   ]
  },
  {
   "cell_type": "code",
   "execution_count": null,
   "metadata": {
    "id": "9XqD67OzfU2z"
   },
   "outputs": [],
   "source": [
    "# which counties have the most listings?\n",
    "groups[\"geometry\"].count().sort_values(ascending=False)"
   ]
  },
  {
   "cell_type": "code",
   "execution_count": null,
   "metadata": {
    "id": "zabZ5sE6fU2z"
   },
   "outputs": [],
   "source": [
    "# create a subset of only those listings in orange county\n",
    "# equivalent to gdf_listings.within(oc_geometry) from earlier\n",
    "oc_listings = gdf_listings_counties[gdf_listings_counties[\"COUNTYFP\"] == \"059\"]\n",
    "oc_listings.shape"
   ]
  },
  {
   "cell_type": "markdown",
   "metadata": {
    "id": "Il7p63ibfU2z"
   },
   "source": [
    "## 7. Mapping"
   ]
  },
  {
   "cell_type": "code",
   "execution_count": null,
   "metadata": {
    "id": "dcfNFtJGfU2z"
   },
   "outputs": [],
   "source": [
    "# get the merged tracts + indicators that are in OC\n",
    "oc_tracts_ind = gdf_tracts_ind[gdf_tracts_ind[\"COUNTYFP\"] == \"059\"]\n",
    "oc_tracts_ind.head()"
   ]
  },
  {
   "cell_type": "code",
   "execution_count": null,
   "metadata": {
    "id": "bMJ0avynfU2z"
   },
   "outputs": [],
   "source": [
    "# drop the tract that has 0 land area... it's just in the ocean\n",
    "# census bureau uses these to represent territory boundary without making on-land tracts extend out into ocean\n",
    "oc_tracts_ind = oc_tracts_ind[oc_tracts_ind[\"ALAND\"] > 0]"
   ]
  },
  {
   "cell_type": "code",
   "execution_count": null,
   "metadata": {
    "id": "Hrc_OFyhfU2z"
   },
   "outputs": [],
   "source": [
    "# map using GeoDataFrame plot method with some style configurations\n",
    "ax = oc_tracts_ind.plot(\n",
    "    column=\"med_household_income\", cmap=\"plasma\", edgecolor=\"k\", lw=0.2, figsize=(9, 6), legend=True\n",
    ")\n",
    "\n",
    "# turn the \"axis\" off and save to disk\n",
    "ax.axis(\"off\")\n",
    "ax.get_figure().savefig(\"oc-income.png\", dpi=300, bbox_inches=\"tight\")"
   ]
  },
  {
   "cell_type": "code",
   "execution_count": null,
   "metadata": {
    "id": "tTUHc6TkfU20"
   },
   "outputs": [],
   "source": [
    "# map a different column\n",
    "ax = oc_tracts_ind.plot(\n",
    "    column=\"pct_english_only\", cmap=\"plasma\", edgecolor=\"k\", lw=0.2, figsize=(9, 6), legend=True\n",
    ")\n",
    "ax.axis(\"off\")\n",
    "ax.get_figure().savefig(\"oc-language.png\", dpi=300, bbox_inches=\"tight\")"
   ]
  },
  {
   "cell_type": "code",
   "execution_count": null,
   "metadata": {
    "id": "blEO0LyPfU20"
   },
   "outputs": [],
   "source": [
    "# map tracts as a basemap with listings as points on top\n",
    "ax = oc_tracts_ind.plot(facecolor=\"#aaaaaa\", edgecolor=\"w\", lw=0.5, figsize=(12, 9), legend=False)\n",
    "\n",
    "# now plot listings, colored by asking rent\n",
    "ax = oc_listings.dropna().plot(\n",
    "    ax=ax, markersize=10, legend=True, cmap=\"plasma\", column=\"rent\", scheme=\"Quantiles\"\n",
    ")\n",
    "ax.axis(\"off\")\n",
    "ax.set_title(\"Apartment Listings in Orange County by Asking Rent (USD)\")\n",
    "ax.get_figure().savefig(\"oc-listings.png\", dpi=300, bbox_inches=\"tight\")"
   ]
  },
  {
   "cell_type": "code",
   "execution_count": null,
   "metadata": {
    "id": "4xBIm4OzfU20"
   },
   "outputs": [],
   "source": [
    "# now it's your turn\n",
    "# make the plot above more effective and accessible using the visualization best practices you have read about"
   ]
  }
 ],
 "metadata": {
  "colab": {
   "provenance": []
  },
  "kernelspec": {
   "display_name": "Python 3 (ipykernel)",
   "language": "python",
   "name": "python3"
  },
  "language_info": {
   "codemirror_mode": {
    "name": "ipython",
    "version": 3
   },
   "file_extension": ".py",
   "mimetype": "text/x-python",
   "name": "python",
   "nbconvert_exporter": "python",
   "pygments_lexer": "ipython3",
   "version": "3.12.6"
  }
 },
 "nbformat": 4,
 "nbformat_minor": 4
}
