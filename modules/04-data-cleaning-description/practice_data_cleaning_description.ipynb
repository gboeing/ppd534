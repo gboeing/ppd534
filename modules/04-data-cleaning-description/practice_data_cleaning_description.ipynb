{
 "cells": [
  {
   "cell_type": "markdown",
   "metadata": {},
   "source": [
    "# Practice: data cleaning and description"
   ]
  },
  {
   "cell_type": "code",
   "execution_count": null,
   "metadata": {
    "id": "vtVhHzoKZsgQ"
   },
   "outputs": [],
   "source": [
    "!curl -s -o pyproject.toml https://raw.githubusercontent.com/gboeing/ppd534/refs/heads/main/pyproject.toml && uv pip install -q -r pyproject.toml"
   ]
  },
  {
   "cell_type": "code",
   "execution_count": null,
   "metadata": {
    "id": "5Qup-eCWbefe"
   },
   "outputs": [],
   "source": [
    "# load the example census data file we worked with in the lecture as a pandas DataFrame\n",
    "# ensure its fips code column is a string, as we demonstrated"
   ]
  },
  {
   "cell_type": "code",
   "execution_count": null,
   "metadata": {
    "id": "tOlDOgDDcCQW"
   },
   "outputs": [],
   "source": [
    "# clean the DataFrame's med_gross_rent and med_household_income to make them numeric"
   ]
  },
  {
   "cell_type": "code",
   "execution_count": null,
   "metadata": {
    "id": "Q72F-Hl_cPmn"
   },
   "outputs": [],
   "source": [
    "# save the cleaned up DataFrame as a CSV file in your Google Drive\n",
    "# make sure you're logged into your USC Google account"
   ]
  },
  {
   "cell_type": "code",
   "execution_count": null,
   "metadata": {
    "id": "PVpiADakcgDX"
   },
   "outputs": [],
   "source": [
    "# create a new subset dataframe containing all the rows with median home values\n",
    "# above $800,000 and percent-White above 60%. How many rows did you get?"
   ]
  },
  {
   "cell_type": "code",
   "execution_count": null,
   "metadata": {
    "id": "BSTpickYcj5_"
   },
   "outputs": [],
   "source": [
    "# create a new subset dataframe containing rows with median household income above the\n",
    "# (tract) average in LA county. What is the median median home value across this subset of tracts?"
   ]
  },
  {
   "cell_type": "code",
   "execution_count": null,
   "metadata": {
    "id": "p7ZlpjlrcqmP"
   },
   "outputs": [],
   "source": [
    "# what's the average (mean) median home value across majority-White tracts?\n",
    "# And across majority-Black tracts?"
   ]
  },
  {
   "cell_type": "code",
   "execution_count": null,
   "metadata": {
    "id": "5vqlxfq3c33H"
   },
   "outputs": [],
   "source": [
    "# re-create the df_race and df_econ subset DataFrames from the lecture\n",
    "# then practice merging them together"
   ]
  },
  {
   "cell_type": "code",
   "execution_count": null,
   "metadata": {
    "id": "qDf_RSq-doyJ"
   },
   "outputs": [],
   "source": [
    "# which LA county tract has the highest percent with a bachelor's degree or higher?"
   ]
  },
  {
   "cell_type": "code",
   "execution_count": null,
   "metadata": {
    "id": "Jn-0oHjUdsxy"
   },
   "outputs": [],
   "source": [
    "# which LA county tract has the highest percent who commute by driving alone?"
   ]
  },
  {
   "cell_type": "code",
   "execution_count": null,
   "metadata": {
    "id": "UxVfZ6BmdyrK"
   },
   "outputs": [],
   "source": [
    "# write a line of code to show descriptive stats for tract-level median gross rent in LA county"
   ]
  },
  {
   "cell_type": "markdown",
   "metadata": {
    "id": "FjiN8LMibkdq"
   },
   "source": [
    "For the following, refer to the Google Colab External Data Tutorial from this week's pre-class prep."
   ]
  },
  {
   "cell_type": "code",
   "execution_count": null,
   "metadata": {
    "id": "LsYhND5hZuIz"
   },
   "outputs": [],
   "source": [
    "# download a CSV data file to your computer's desktop\n",
    "# then upload the CSV file from your local file system\n",
    "# then open the CSV file with pandas"
   ]
  },
  {
   "cell_type": "code",
   "execution_count": null,
   "metadata": {
    "id": "Oybu6SnHavWT"
   },
   "outputs": [],
   "source": [
    "# make sure you're logged into your USC Google account\n",
    "# add a CSV data file to your USC Google Drive\n",
    "# then mount your drive here and open the CSV file with pandas"
   ]
  }
 ],
 "metadata": {
  "colab": {
   "provenance": []
  },
  "kernelspec": {
   "display_name": "Python 3",
   "name": "python3"
  },
  "language_info": {
   "name": "python"
  }
 },
 "nbformat": 4,
 "nbformat_minor": 0
}
