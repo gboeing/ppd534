{
 "cells": [
  {
   "cell_type": "markdown",
   "metadata": {
    "id": "QwW5FMIMTp-U"
   },
   "source": [
    "# Coding Bootcamp I Practice"
   ]
  },
  {
   "cell_type": "code",
   "execution_count": null,
   "metadata": {
    "id": "5bjCINWGTSG-"
   },
   "outputs": [],
   "source": [
    "# in a single line, divide the sum of ninety plus seventy by the product of twelve and eleven"
   ]
  },
  {
   "cell_type": "code",
   "execution_count": null,
   "metadata": {
    "id": "pk4AQd9wTvPv"
   },
   "outputs": [],
   "source": [
    "# in a single line, create a new variable z and set it equal to x divided the sum of x plus y\n",
    "x = 10\n",
    "y = 5"
   ]
  },
  {
   "cell_type": "code",
   "execution_count": null,
   "metadata": {
    "id": "afeabev0Up-U"
   },
   "outputs": [],
   "source": [
    "# create a new variable called rent and set it equal to 2500\n",
    "# create a new variable called rent_float, from converting rent to a floating point number\n",
    "# create a new variable called rent_str, from converting rent_float to a string"
   ]
  },
  {
   "cell_type": "code",
   "execution_count": null,
   "metadata": {
    "id": "W2npy0gzUCmX"
   },
   "outputs": [],
   "source": [
    "# create a new dict variable containing the individual components of your home address"
   ]
  },
  {
   "cell_type": "code",
   "execution_count": null,
   "metadata": {
    "id": "WOlqd_tBUG5g"
   },
   "outputs": [],
   "source": [
    "# create a new string from the 1st, 3rd, and 5th characters in location\n",
    "location = \"Los Angeles, CA 90089\""
   ]
  },
  {
   "cell_type": "code",
   "execution_count": null,
   "metadata": {
    "id": "Goy3CKsMUNnn"
   },
   "outputs": [],
   "source": [
    "# extract the zip code characters from the end of the \"location\" variable and convert to integer"
   ]
  },
  {
   "cell_type": "code",
   "execution_count": null,
   "metadata": {
    "id": "p1Ccg5txUVq5"
   },
   "outputs": [],
   "source": [
    "# write a code snippet to multiply all the items in int_list by 3, then sum the result\n",
    "int_list = [2, 4, 6, 8, 10]"
   ]
  },
  {
   "cell_type": "code",
   "execution_count": null,
   "metadata": {
    "id": "mOzHbf9LUVsy"
   },
   "outputs": [],
   "source": [
    "# calculate the mean value of int_list"
   ]
  },
  {
   "cell_type": "code",
   "execution_count": null,
   "metadata": {
    "id": "LTAScW-DUaAI"
   },
   "outputs": [],
   "source": [
    "# write a short program to calculate the length of the hypotenuse of\n",
    "# a right triangle where the other sides have lengths 3 and 4\n",
    "# assign each side's length to its own variable"
   ]
  },
  {
   "cell_type": "code",
   "execution_count": null,
   "metadata": {
    "id": "2LsASnSUZUcV"
   },
   "outputs": [],
   "source": []
  }
 ],
 "metadata": {
  "colab": {
   "provenance": []
  },
  "kernelspec": {
   "display_name": "Python 3",
   "name": "python3"
  },
  "language_info": {
   "name": "python"
  }
 },
 "nbformat": 4,
 "nbformat_minor": 0
}
