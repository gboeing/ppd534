{
 "cells": [
  {
   "cell_type": "markdown",
   "metadata": {
    "id": "lgfMoBOHWpce"
   },
   "source": [
    "# Coding Bootcamp II Practice"
   ]
  },
  {
   "cell_type": "code",
   "execution_count": null,
   "metadata": {
    "id": "f6XZ8LmDWol9"
   },
   "outputs": [],
   "source": [
    "# use substring indexing to get the first 5 characters after (but not including) the first appearance of \"is\" in sentence\n",
    "sentence = \"This is USC.\""
   ]
  },
  {
   "cell_type": "code",
   "execution_count": null,
   "metadata": {
    "id": "wz8xhvl7WrO0"
   },
   "outputs": [],
   "source": [
    "# use substring indexing to get the first 5 characters after (but not including) the first appearance of \"is\" in sentence"
   ]
  },
  {
   "cell_type": "code",
   "execution_count": null,
   "metadata": {
    "id": "fbkp3Hk7YZC3"
   },
   "outputs": [],
   "source": [
    "# write a for loop that counts down from 10 to 1, printing each number as it goes"
   ]
  },
  {
   "cell_type": "code",
   "execution_count": null,
   "metadata": {
    "id": "QGL7DWtkYcKI"
   },
   "outputs": [],
   "source": [
    "# explain: why does the first line work, but the second line throw an error?\n",
    "# 2 + 2 == 4\n",
    "# 2 + 2 = 4"
   ]
  },
  {
   "cell_type": "code",
   "execution_count": null,
   "metadata": {
    "id": "LmUN979EYlFQ"
   },
   "outputs": [],
   "source": [
    "# loop through the first 20 integers and print True if the number 80 is evenly divisible by each integer, otherwise False"
   ]
  },
  {
   "cell_type": "code",
   "execution_count": null,
   "metadata": {
    "id": "Ma-g3K_rYyoM"
   },
   "outputs": [],
   "source": [
    "# loop through the numbers 1 through 15, using modulo to print 'even' if each is evenly divisible by 2, and 'odd' if not"
   ]
  },
  {
   "cell_type": "code",
   "execution_count": null,
   "metadata": {
    "id": "8NE29ROaYzIW"
   },
   "outputs": [],
   "source": [
    "# write a function that accepts 2 arguments and uses modulo to return True if the first is evenly divisible by the second, and False if not"
   ]
  },
  {
   "cell_type": "code",
   "execution_count": null,
   "metadata": {
    "id": "51RbYXf9Y17Q"
   },
   "outputs": [],
   "source": [
    "# write a function that prints all the numbers between 0 and some argument called n"
   ]
  },
  {
   "cell_type": "code",
   "execution_count": null,
   "metadata": {
    "id": "OsPE2Ud8ZR_w"
   },
   "outputs": [],
   "source": []
  }
 ],
 "metadata": {
  "colab": {
   "provenance": []
  },
  "kernelspec": {
   "display_name": "Python 3",
   "name": "python3"
  },
  "language_info": {
   "name": "python"
  }
 },
 "nbformat": 4,
 "nbformat_minor": 0
}
