{
 "cells": [
  {
   "cell_type": "markdown",
   "metadata": {},
   "source": [
    "# Practice: statistical models"
   ]
  },
  {
   "cell_type": "code",
   "execution_count": null,
   "metadata": {
    "id": "vtVhHzoKZsgQ"
   },
   "outputs": [],
   "source": [
    "!curl -s -o pyproject.toml https://raw.githubusercontent.com/gboeing/ppd534/refs/heads/main/pyproject.toml && uv pip install -q -r pyproject.toml"
   ]
  },
  {
   "cell_type": "code",
   "execution_count": null,
   "metadata": {
    "id": "Oybu6SnHavWT"
   },
   "outputs": [],
   "source": [
    "# load the census tract geometries shapefile and data CSV file we used in the lecture\n",
    "# and then merge them together. load the rental listings CSV file, project it to the CRS\n",
    "# of the tracts, then spatially join them like we demonstrated in the lecture"
   ]
  },
  {
   "cell_type": "code",
   "execution_count": null,
   "metadata": {},
   "outputs": [],
   "source": [
    "# estimate a simple regression model predicting asking rent as a function of the surrounding\n",
    "# tract's median home value. describe the relationship between these two variables in\n",
    "# terms of sign, size, and significance, then interpret the real-world meaning of the results.\n",
    "# what asking rent does your model predict in a tract with a $1 million median home value?"
   ]
  },
  {
   "cell_type": "code",
   "execution_count": null,
   "metadata": {},
   "outputs": [],
   "source": [
    "# estimate a new model predicting rent as a function of 3-5 variables of your choosing.\n",
    "# explain why and how you chose these variables, then describe the relationship between\n",
    "# the response and predictors in terms of sign, size, and significance. finally,\n",
    "# interpret the real-world meaning of the results."
   ]
  },
  {
   "cell_type": "code",
   "execution_count": null,
   "metadata": {},
   "outputs": [],
   "source": [
    "# create a correlation matrix and pairplots to see the relationships between your\n",
    "# response and predictors. transform variables as needed for a better linear fit.\n",
    "# then re-estimate your model and re-interpret the results. what has changed? why?"
   ]
  }
 ],
 "metadata": {
  "colab": {
   "provenance": []
  },
  "kernelspec": {
   "display_name": "Python 3",
   "name": "python3"
  },
  "language_info": {
   "name": "python"
  }
 },
 "nbformat": 4,
 "nbformat_minor": 0
}
